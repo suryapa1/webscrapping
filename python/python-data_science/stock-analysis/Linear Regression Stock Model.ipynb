{
 "cells": [
  {
   "cell_type": "markdown",
   "metadata": {},
   "source": [
    "# Stock Analysis With SciKit Learn\n",
    "In this lesson, we will us the Alpha Vantage API to pull some stock data related to Microsoft & also the Money Flow Index indicator."
   ]
  },
  {
   "cell_type": "markdown",
   "metadata": {},
   "source": [
    "***\n",
    "## Section One: Pull the Stock Price Data\n",
    "First thing we need to do is pull the stock price data, we will be using the Alpha Vantage API as this is a rich API that offers a wide variety data for free. The request will be broken into a few parts, the first part we need to define our API Key, our end point and the API url. Then we will need to define the paramters of our pull, here I want my response to be for the Microsoft stock data, in a json format, that is the weekly price. We make the request, convert the json data, and then break the response into the metadata & and actual stock data."
   ]
  },
  {
   "cell_type": "code",
   "execution_count": 3,
   "metadata": {},
   "outputs": [],
   "source": [
    "import requests\n",
    "import pprint\n",
    "import json\n",
    "import pandas as pd\n",
    "\n",
    "# Define my API Key, My Endpoint, and My Header\n",
    "DEVELOPER_KEY = ''\n",
    "BASE_URL = 'https://www.alphavantage.co/query'\n",
    "ENDPOINT = 'TIME_SERIES_INTRADA'\n",
    "\n",
    "# Define my parameters of the search\n",
    "PARAMETERS = {'function':ENDPOINT,\n",
    "             'symbol':'MSFT',\n",
    "             'datatype':'json',  #CSV\n",
    "             'apikey': DEVELOPER_KEY}\n",
    "\n",
    "# Make a request to the ALPHA VANTAGE API\n",
    "response = requests.get(url = BASE_URL,\n",
    "                        params = PARAMETERS)\n",
    "\n",
    "# Decode the response\n",
    "encoded_response = response.json()\n",
    "\n",
    "# break the data into two components, meta data & actual data\n",
    "meta_data = encoded_response['Meta Data']\n",
    "time_series_data = encoded_response['Weekly Time Series']"
   ]
  },
  {
   "cell_type": "markdown",
   "metadata": {},
   "source": [
    "<div class=\"alert alert-block alert-info\">\n",
    "<b>Tip:</b> If you would like more info on the Alpha Vantage API, I encourage you to visit their website. https://www.alphavantage.co/documentation/\n",
    "</div>"
   ]
  },
  {
   "cell_type": "markdown",
   "metadata": {},
   "source": [
    "***\n",
    "## Convert the Data Frame Data Types\n",
    "The data we have is good, but we need it in a format that works. Let's pass it through to a Pandas Dataframe using the `from_dict()` method where we can specify which orientation we want the keys to take. In this example, I want the data to be oriented on the index in other words I want the dates for each week to be a row index and the information in those weeks to be the column headers.\n",
    "\n",
    "We have a data frame but the data types and column names aren't accurate so we should change that. The methodology will be the same for both, we will create a dictionary where we will specify the column name as the key and the value will be the corresponding new column name/data type we want that column to have. Use the `rename()` method to rename the columns and the `astype()` method to redefine the data types."
   ]
  },
  {
   "cell_type": "code",
   "execution_count": 4,
   "metadata": {},
   "outputs": [
    {
     "data": {
      "text/plain": [
       "'This was the old data type.'"
      ]
     },
     "metadata": {},
     "output_type": "display_data"
    },
    {
     "data": {
      "text/plain": [
       "open      object\n",
       "high      object\n",
       "low       object\n",
       "close     object\n",
       "volume    object\n",
       "dtype: object"
      ]
     },
     "metadata": {},
     "output_type": "display_data"
    },
    {
     "data": {
      "text/plain": [
       "'This is the new data type.'"
      ]
     },
     "metadata": {},
     "output_type": "display_data"
    },
    {
     "data": {
      "text/plain": [
       "open      float64\n",
       "high      float64\n",
       "low       float64\n",
       "close     float64\n",
       "volume      int32\n",
       "dtype: object"
      ]
     },
     "metadata": {},
     "output_type": "display_data"
    }
   ],
   "source": [
    "# create a dataframe with the data.\n",
    "stock_dataframe = pd.DataFrame.from_dict(time_series_data, orient='index')\n",
    "\n",
    "# redefine new column names, we will use a dictionary where the key is the old name and the value is the new name.\n",
    "column_keys = {'1. open':'open','2. high':'high','3. low':'low','4. close':'close','5. volume':'volume'}\n",
    "\n",
    "# rename the columns using the rename() method and we need to make sure that we assign this new data frame to a variable\n",
    "stock_dataframe = stock_dataframe.rename(columns=column_keys)\n",
    "\n",
    "# get the data types of each column, they're all objects. Let's fix that.\n",
    "display('This was the old data type.')\n",
    "display(stock_dataframe.dtypes)\n",
    "\n",
    "# define dictionary of data type keys, the key is the column name, the value is the data type we want it to be.\n",
    "data_keys = {'open': float,'high': float,'low': float,'close': float,'volume': int}\n",
    "\n",
    "# call the as type method to convert the columns\n",
    "stock_dataframe = stock_dataframe.astype(data_keys)\n",
    "\n",
    "display('This is the new data type.')\n",
    "display(stock_dataframe.dtypes)"
   ]
  },
  {
   "cell_type": "markdown",
   "metadata": {},
   "source": [
    "***\n",
    "## Change the Index to Data Time\n",
    "The index by default is of the type object and needs to be changed to a data time data type so it's easier to manipulate. Here is how we do that:"
   ]
  },
  {
   "cell_type": "code",
   "execution_count": 5,
   "metadata": {},
   "outputs": [
    {
     "data": {
      "text/plain": [
       "Index(['1998-01-09', '1998-01-16', '1998-01-23', '1998-01-30', '1998-02-06',\n",
       "       '1998-02-13', '1998-02-20', '1998-02-27', '1998-03-06', '1998-03-13',\n",
       "       ...\n",
       "       '2019-01-04', '2019-01-11', '2019-01-18', '2019-01-25', '2019-02-01',\n",
       "       '2019-02-08', '2019-02-15', '2019-02-22', '2019-03-01', '2019-03-08'],\n",
       "      dtype='object', length=1105)"
      ]
     },
     "metadata": {},
     "output_type": "display_data"
    },
    {
     "data": {
      "text/plain": [
       "DatetimeIndex(['1998-01-09', '1998-01-16', '1998-01-23', '1998-01-30',\n",
       "               '1998-02-06', '1998-02-13', '1998-02-20', '1998-02-27',\n",
       "               '1998-03-06', '1998-03-13',\n",
       "               ...\n",
       "               '2019-01-04', '2019-01-11', '2019-01-18', '2019-01-25',\n",
       "               '2019-02-01', '2019-02-08', '2019-02-15', '2019-02-22',\n",
       "               '2019-03-01', '2019-03-08'],\n",
       "              dtype='datetime64[ns]', length=1105, freq=None)"
      ]
     },
     "metadata": {},
     "output_type": "display_data"
    }
   ],
   "source": [
    "# let's work with the index next, this is still considered an object but it is clearly a date.\n",
    "display(stock_dataframe.index)\n",
    "\n",
    "# Converting the index as date\n",
    "stock_dataframe.index = pd.to_datetime(stock_dataframe.index)\n",
    "\n",
    "display(stock_dataframe.index)"
   ]
  },
  {
   "cell_type": "markdown",
   "metadata": {},
   "source": [
    "***\n",
    "## Adding New Date Columns\n",
    "This is more for demonstration purposes, but now that we have the proper data type for our index we can create new columns that are segments of our index column."
   ]
  },
  {
   "cell_type": "code",
   "execution_count": 7,
   "metadata": {},
   "outputs": [
    {
     "name": "stdout",
     "output_type": "stream",
     "text": [
      "               open     high       low   close     volume  year  month  day\n",
      "1998-01-09  131.250  133.630  125.8700  127.00   46857300  1998      1    9\n",
      "1998-01-16  124.620  135.380  124.3700  135.25   40459900  1998      1   16\n",
      "1998-01-23  134.130  139.880  134.0000  138.25   46621800  1998      1   23\n",
      "1998-01-30  139.880  150.130  138.4500  149.19   46856000  1998      1   30\n",
      "1998-02-06  151.750  158.750  150.5000  158.13   42349700  1998      2    6\n",
      "1998-02-13  158.750  160.060  155.6300  157.50   37262800  1998      2   13\n",
      "1998-02-20  158.500  158.500  152.8800  155.13   40268500  1998      2   20\n",
      "1998-02-27   80.940   86.000   79.3700   84.75   95642150  1998      2   27\n",
      "1998-03-06   85.870   85.870   79.2500   82.75   79005300  1998      3    6\n",
      "1998-03-13   82.500   83.000   79.5000   82.37   55001400  1998      3   13\n",
      "1998-03-20   82.440   83.000   79.6900   81.81   50579700  1998      3   20\n",
      "1998-03-27   81.190   90.940   81.0600   87.81   73985400  1998      3   27\n",
      "1998-04-03   88.060   93.060   87.1200   93.00   46219600  1998      4    3\n",
      "1998-04-09   92.620   92.620   86.6200   89.00   51818800  1998      4    9\n",
      "1998-04-17   88.810   92.250   86.7500   92.12   44807500  1998      4   17\n",
      "1998-04-24   92.370   99.120   91.8700   92.12   73319700  1998      4   24\n",
      "1998-05-01   89.500   92.250   88.1200   89.62   63987800  1998      5    1\n",
      "1998-05-08   89.190   89.870   81.8700   85.75   77783800  1998      5    8\n",
      "1998-05-15   86.120   91.000   83.2500   89.44   84806800  1998      5   15\n",
      "1998-05-22   84.500   87.370   84.5000   85.56   60284500  1998      5   22\n",
      "1998-05-29   85.310   86.500   82.8700   84.81   41971500  1998      5   29\n",
      "1998-06-05   83.870   86.500   83.1200   86.25   46291900  1998      6    5\n",
      "1998-06-12   85.620   88.370   84.0000   85.75   42615500  1998      6   12\n",
      "1998-06-19   84.690   94.750   84.5600   94.69   77646800  1998      6   19\n",
      "1998-06-26   94.750  106.870   93.6900  104.44  106004900  1998      6   26\n",
      "1998-07-02  105.500  110.120  104.6200  107.25   55926900  1998      7    2\n",
      "1998-07-10  106.870  113.250  105.3700  113.19   49592700  1998      7   10\n",
      "1998-07-17  114.120  119.620  113.6200  117.94   80779800  1998      7   17\n",
      "1998-07-24  118.190  119.500  111.8700  113.81   75862600  1998      7   24\n",
      "1998-07-31  113.120  116.870  109.9400  109.94   80891500  1998      7   31\n",
      "...             ...      ...       ...     ...        ...   ...    ...  ...\n",
      "2018-08-17  109.240  109.750  106.6900  107.58  104691805  2018      8   17\n",
      "2018-08-24  107.510  108.560  105.7800  108.40   94198444  2018      8   24\n",
      "2018-08-31  109.270  112.777  108.5100  112.33  105653318  2018      8   31\n",
      "2018-09-07  110.850  111.955  107.2300  108.21  101483263  2018      9    7\n",
      "2018-09-14  108.840  113.730  108.3600  113.37  109098713  2018      9   14\n",
      "2018-09-21  113.690  115.290  111.0350  114.26  159580089  2018      9   21\n",
      "2018-09-28  113.030  115.100  112.2175  114.37  110093609  2018      9   28\n",
      "2018-10-05  114.750  116.180  110.6400  112.13  120208912  2018     10    5\n",
      "2018-10-12  111.660  113.080  104.2000  109.57  228861873  2018     10   12\n",
      "2018-10-19  108.910  111.810  106.9468  108.66  155518177  2018     10   19\n",
      "2018-10-26  109.320  110.540  101.5901  106.96  251383718  2018     10   26\n",
      "2018-11-02  108.105  108.700  100.1100  106.16  242639657  2018     11    2\n",
      "2018-11-09  106.370  112.240  105.9000  109.57  147847424  2018     11    9\n",
      "2018-11-16  109.420  109.960  103.9100  108.29  180498817  2018     11   16\n",
      "2018-11-23  108.270  108.560   99.3528  103.07  150780076  2018     11   23\n",
      "2018-11-30  104.790  111.330  104.5800  110.89  170037931  2018     11   30\n",
      "2018-12-07  113.000  113.420  104.3000  104.82  174082124  2018     12    7\n",
      "2018-12-14  104.800  111.270  103.8900  106.03  197742990  2018     12   14\n",
      "2018-12-21  105.410  106.880   97.4600   98.23  356050950  2018     12   21\n",
      "2018-12-28   97.680  102.410   93.9600  100.39  183237806  2018     12   28\n",
      "2019-01-04  101.290  102.510   97.2000  101.93  155142140  2019      1    4\n",
      "2019-01-11  101.640  104.880  100.9800  102.80  157833149  2019      1   11\n",
      "2019-01-18  101.900  107.900  101.2600  107.71  155699162  2019      1   18\n",
      "2019-01-25  106.750  107.880  104.8600  107.17  112628578  2019      1   25\n",
      "2019-02-01  106.260  106.480  102.1700  102.78  201611213  2019      2    1\n",
      "2019-02-08  102.870  107.270  102.7700  105.67  130472196  2019      2    8\n",
      "2019-02-15  106.200  108.300  104.9650  108.22  110757176  2019      2   15\n",
      "2019-02-22  107.790  111.200  106.2900  110.97   96472580  2019      2   22\n",
      "2019-03-01  111.760  113.240  110.8800  112.53  119359497  2019      3    1\n",
      "2019-03-08  113.020  113.250  108.8000  110.51  111971837  2019      3    8\n",
      "\n",
      "[1105 rows x 8 columns]\n"
     ]
    }
   ],
   "source": [
    "# let's create some new columns that contain broken down dates.\n",
    "stock_dataframe['year'] = stock_dataframe.index.year\n",
    "stock_dataframe['month'] = stock_dataframe.index.month\n",
    "stock_dataframe['day'] = stock_dataframe.index.day\n",
    "\n",
    "print(stock_dataframe)"
   ]
  },
  {
   "cell_type": "markdown",
   "metadata": {},
   "source": [
    "***\n",
    "## Getting the MFI Data\n",
    "With the stock data cleaned, we can get the MFI Data and then go through a similar cleaning process. Keep in the mind the request is the same we just need to change a few parameters. Here is the second request, using the 'MFI' endpoint."
   ]
  },
  {
   "cell_type": "code",
   "execution_count": 5,
   "metadata": {},
   "outputs": [],
   "source": [
    "# Define my API Key, My Endpoint, and My Header\n",
    "DEVELOPER_KEY = 'ZSST3RVPUPNMQQCC'\n",
    "BASE_URL = 'https://www.alphavantage.co/query'\n",
    "ENDPOINT = 'MFI'\n",
    "\n",
    "# Define my parameters of the search\n",
    "PARAMETERS = {'function':ENDPOINT,\n",
    "             'symbol':'MSFT',\n",
    "             'interval':'weekly',\n",
    "             'time_period':'10',\n",
    "             'datatype':'json',  #CSV\n",
    "             'apikey': DEVELOPER_KEY}\n",
    "\n",
    "# Make a request to the ALPHA VANTAGE API\n",
    "response = requests.get(url = BASE_URL,\n",
    "                        params = PARAMETERS)\n",
    "\n",
    "# Decode the response\n",
    "encoded_response = response.json()\n",
    "\n",
    "# break the data into two components, meta data & actual data\n",
    "meta_data = encoded_response['Meta Data']\n",
    "mfi_data = encoded_response['Technical Analysis: MFI']"
   ]
  },
  {
   "cell_type": "markdown",
   "metadata": {},
   "source": [
    "***\n",
    "## Clean the New Data\n",
    "Looks like the data is good let's do the same transformations to this data set, mainly the data type transformation and index transformation."
   ]
  },
  {
   "cell_type": "code",
   "execution_count": 6,
   "metadata": {},
   "outputs": [
    {
     "data": {
      "text/plain": [
       "DatetimeIndex(['1998-03-20', '1998-03-27', '1998-04-03', '1998-04-09',\n",
       "               '1998-04-17', '1998-04-24', '1998-05-01', '1998-05-08',\n",
       "               '1998-05-15', '1998-05-22',\n",
       "               ...\n",
       "               '2019-01-04', '2019-01-11', '2019-01-18', '2019-01-25',\n",
       "               '2019-02-01', '2019-02-08', '2019-02-15', '2019-02-22',\n",
       "               '2019-03-01', '2019-03-07'],\n",
       "              dtype='datetime64[ns]', length=1095, freq=None)"
      ]
     },
     "metadata": {},
     "output_type": "display_data"
    }
   ],
   "source": [
    "# create a dataframe with the data.\n",
    "mfi_dataframe = pd.DataFrame.from_dict(mfi_data, orient='index')\n",
    "\n",
    "# define dictionary of data type keys, the key is the column name, the value is the data type we want it to be.\n",
    "data_keys = {'MFI': float}\n",
    "\n",
    "# call the as type method to convert the columns\n",
    "mfi_dataframe = mfi_dataframe.astype(data_keys)\n",
    "\n",
    "# covnert the index to a datetime.\n",
    "mfi_dataframe.index = pd.to_datetime(mfi_dataframe.index)\n",
    "\n",
    "display(mfi_dataframe.index)"
   ]
  },
  {
   "cell_type": "markdown",
   "metadata": {},
   "source": [
    "****\n",
    "## Merge the Two Datasets\n",
    "With the two data frames cleaned we need to merge them, the simplest way to do this is use the `join()` method and we will merge the `mfi_dataframe` on the `stock_dataframe` using an outer join. After that some of the rows will have an NA for the MFI data because the MFI data did not exist for those dates. This means we will need to drop them using the `dropna()` method. I also chose to filter the data so that we only have data that is greater than 2013."
   ]
  },
  {
   "cell_type": "code",
   "execution_count": 7,
   "metadata": {},
   "outputs": [
    {
     "data": {
      "text/html": [
       "<div>\n",
       "<style scoped>\n",
       "    .dataframe tbody tr th:only-of-type {\n",
       "        vertical-align: middle;\n",
       "    }\n",
       "\n",
       "    .dataframe tbody tr th {\n",
       "        vertical-align: top;\n",
       "    }\n",
       "\n",
       "    .dataframe thead th {\n",
       "        text-align: right;\n",
       "    }\n",
       "</style>\n",
       "<table border=\"1\" class=\"dataframe\">\n",
       "  <thead>\n",
       "    <tr style=\"text-align: right;\">\n",
       "      <th></th>\n",
       "      <th>open</th>\n",
       "      <th>high</th>\n",
       "      <th>low</th>\n",
       "      <th>close</th>\n",
       "      <th>volume</th>\n",
       "      <th>year</th>\n",
       "      <th>month</th>\n",
       "      <th>day</th>\n",
       "      <th>MFI</th>\n",
       "    </tr>\n",
       "  </thead>\n",
       "  <tbody>\n",
       "    <tr>\n",
       "      <th>2014-01-03</th>\n",
       "      <td>37.22</td>\n",
       "      <td>37.58</td>\n",
       "      <td>36.60</td>\n",
       "      <td>36.910</td>\n",
       "      <td>95561000</td>\n",
       "      <td>2014</td>\n",
       "      <td>1</td>\n",
       "      <td>3</td>\n",
       "      <td>62.2169</td>\n",
       "    </tr>\n",
       "    <tr>\n",
       "      <th>2014-01-10</th>\n",
       "      <td>36.85</td>\n",
       "      <td>36.89</td>\n",
       "      <td>35.40</td>\n",
       "      <td>36.040</td>\n",
       "      <td>216443300</td>\n",
       "      <td>2014</td>\n",
       "      <td>1</td>\n",
       "      <td>10</td>\n",
       "      <td>51.5640</td>\n",
       "    </tr>\n",
       "    <tr>\n",
       "      <th>2014-01-17</th>\n",
       "      <td>35.99</td>\n",
       "      <td>37.00</td>\n",
       "      <td>34.63</td>\n",
       "      <td>36.380</td>\n",
       "      <td>216624000</td>\n",
       "      <td>2014</td>\n",
       "      <td>1</td>\n",
       "      <td>17</td>\n",
       "      <td>38.4886</td>\n",
       "    </tr>\n",
       "    <tr>\n",
       "      <th>2014-01-24</th>\n",
       "      <td>36.82</td>\n",
       "      <td>37.55</td>\n",
       "      <td>35.52</td>\n",
       "      <td>36.805</td>\n",
       "      <td>173821100</td>\n",
       "      <td>2014</td>\n",
       "      <td>1</td>\n",
       "      <td>24</td>\n",
       "      <td>37.4011</td>\n",
       "    </tr>\n",
       "    <tr>\n",
       "      <th>2014-01-31</th>\n",
       "      <td>36.87</td>\n",
       "      <td>37.89</td>\n",
       "      <td>35.75</td>\n",
       "      <td>37.840</td>\n",
       "      <td>261570800</td>\n",
       "      <td>2014</td>\n",
       "      <td>1</td>\n",
       "      <td>31</td>\n",
       "      <td>49.8434</td>\n",
       "    </tr>\n",
       "  </tbody>\n",
       "</table>\n",
       "</div>"
      ],
      "text/plain": [
       "             open   high    low   close     volume  year  month  day      MFI\n",
       "2014-01-03  37.22  37.58  36.60  36.910   95561000  2014      1    3  62.2169\n",
       "2014-01-10  36.85  36.89  35.40  36.040  216443300  2014      1   10  51.5640\n",
       "2014-01-17  35.99  37.00  34.63  36.380  216624000  2014      1   17  38.4886\n",
       "2014-01-24  36.82  37.55  35.52  36.805  173821100  2014      1   24  37.4011\n",
       "2014-01-31  36.87  37.89  35.75  37.840  261570800  2014      1   31  49.8434"
      ]
     },
     "execution_count": 7,
     "metadata": {},
     "output_type": "execute_result"
    }
   ],
   "source": [
    "# we need to merge the two data frames, we will do a outer join.\n",
    "price_mfi_data = stock_dataframe.join(mfi_dataframe, how='outer')\n",
    "\n",
    "# next let's filter it so it only has data points beyond 2012\n",
    "the_filter = (price_mfi_data['year'] > 2013)\n",
    "\n",
    "# create a new data frame that is the filtered version of the old one.\n",
    "stock_dataframe = price_mfi_data.loc[the_filter]\n",
    "stock_dataframe = stock_dataframe.dropna()\n",
    "stock_dataframe.head()"
   ]
  },
  {
   "cell_type": "code",
   "execution_count": 20,
   "metadata": {},
   "outputs": [
    {
     "data": {
      "text/html": [
       "<div>\n",
       "<style scoped>\n",
       "    .dataframe tbody tr th:only-of-type {\n",
       "        vertical-align: middle;\n",
       "    }\n",
       "\n",
       "    .dataframe tbody tr th {\n",
       "        vertical-align: top;\n",
       "    }\n",
       "\n",
       "    .dataframe thead th {\n",
       "        text-align: right;\n",
       "    }\n",
       "</style>\n",
       "<table border=\"1\" class=\"dataframe\">\n",
       "  <thead>\n",
       "    <tr style=\"text-align: right;\">\n",
       "      <th></th>\n",
       "      <th>open</th>\n",
       "      <th>close</th>\n",
       "      <th>volume</th>\n",
       "    </tr>\n",
       "  </thead>\n",
       "  <tbody>\n",
       "    <tr>\n",
       "      <th>open</th>\n",
       "      <td>1.000000</td>\n",
       "      <td>0.996703</td>\n",
       "      <td>-0.183588</td>\n",
       "    </tr>\n",
       "    <tr>\n",
       "      <th>close</th>\n",
       "      <td>0.996703</td>\n",
       "      <td>1.000000</td>\n",
       "      <td>-0.196329</td>\n",
       "    </tr>\n",
       "    <tr>\n",
       "      <th>volume</th>\n",
       "      <td>-0.183588</td>\n",
       "      <td>-0.196329</td>\n",
       "      <td>1.000000</td>\n",
       "    </tr>\n",
       "  </tbody>\n",
       "</table>\n",
       "</div>"
      ],
      "text/plain": [
       "            open     close    volume\n",
       "open    1.000000  0.996703 -0.183588\n",
       "close   0.996703  1.000000 -0.196329\n",
       "volume -0.183588 -0.196329  1.000000"
      ]
     },
     "execution_count": 20,
     "metadata": {},
     "output_type": "execute_result"
    }
   ],
   "source": [
    "stock_dataframe[['open','close','volume']].corr()"
   ]
  },
  {
   "cell_type": "code",
   "execution_count": 8,
   "metadata": {},
   "outputs": [],
   "source": [
    "# we need to define our x (input variable) & y (output variable)\n",
    "\n",
    "# the input will be everything minus our close price column\n",
    "X = stock_dataframe.drop('close', axis = 1)\n",
    "Y = stock_dataframe[['close']]"
   ]
  },
  {
   "cell_type": "code",
   "execution_count": 9,
   "metadata": {},
   "outputs": [],
   "source": [
    "# now we will split the data into a train & test set.\n",
    "from sklearn.model_selection import train_test_split\n",
    "\n",
    "# Split X and y into X_\n",
    "X_train, X_test, y_train, y_test = train_test_split(X, Y, test_size=0.25, random_state=1)"
   ]
  },
  {
   "cell_type": "code",
   "execution_count": 10,
   "metadata": {},
   "outputs": [
    {
     "data": {
      "text/plain": [
       "LinearRegression(copy_X=True, fit_intercept=True, n_jobs=1, normalize=False)"
      ]
     },
     "execution_count": 10,
     "metadata": {},
     "output_type": "execute_result"
    }
   ],
   "source": [
    "# let's build our model.\n",
    "from sklearn.linear_model import LinearRegression\n",
    "\n",
    "# create a Linear Regression model object.\n",
    "regression_model = LinearRegression()\n",
    "\n",
    "# pass through the X_train & y_train data set.\n",
    "regression_model.fit(X_train, y_train)"
   ]
  },
  {
   "cell_type": "code",
   "execution_count": 11,
   "metadata": {},
   "outputs": [
    {
     "name": "stdout",
     "output_type": "stream",
     "text": [
      "Coefficient for open: -0.4756567145167192\n",
      "Coefficient for high: 0.8733142398708361\n",
      "Coefficient for low: 0.6060052209412231\n",
      "Coefficient for volume: -2.7477528897872318e-09\n",
      "Coefficient for year: -0.07053372221122134\n",
      "Coefficient for month: -0.012995965324162074\n",
      "Coefficient for day: -0.0029014077962713834\n",
      "Coefficient for MFI: 0.000561933953040316\n"
     ]
    }
   ],
   "source": [
    "#  let's take a look at the coefficents for each column\n",
    "for idx, col_name in enumerate(X_train.columns):\n",
    "    print(\"Coefficient for {}: {}\".format(col_name, regression_model.coef_[0][idx]))"
   ]
  },
  {
   "cell_type": "code",
   "execution_count": 12,
   "metadata": {},
   "outputs": [
    {
     "name": "stdout",
     "output_type": "stream",
     "text": [
      "The intercept for our model is 142.28150272046634\n"
     ]
    }
   ],
   "source": [
    "# now that we have our coefficents lets look at the intercept\n",
    "intercept = regression_model.intercept_[0]\n",
    "print(\"The intercept for our model is {}\".format(intercept))"
   ]
  },
  {
   "cell_type": "code",
   "execution_count": 13,
   "metadata": {},
   "outputs": [
    {
     "data": {
      "text/plain": [
       "0.9984991774906313"
      ]
     },
     "execution_count": 13,
     "metadata": {},
     "output_type": "execute_result"
    }
   ],
   "source": [
    "# how much of our variability of y can be explained by x, in this case it's astronomically high over 99%\n",
    "regression_model.score(X_test, y_test)"
   ]
  },
  {
   "cell_type": "code",
   "execution_count": 14,
   "metadata": {},
   "outputs": [
    {
     "data": {
      "text/plain": [
       "0.9103074062190152"
      ]
     },
     "execution_count": 14,
     "metadata": {},
     "output_type": "execute_result"
    }
   ],
   "source": [
    "from sklearn.metrics import mean_squared_error\n",
    "import math \n",
    "\n",
    "y_predict = regression_model.predict(X_test)\n",
    "regression_model_mse = mean_squared_error(y_predict, y_test)\n",
    "math.sqrt(regression_model_mse)"
   ]
  }
 ],
 "metadata": {
  "kernelspec": {
   "display_name": "Python 3",
   "language": "python",
   "name": "python3"
  },
  "language_info": {
   "codemirror_mode": {
    "name": "ipython",
    "version": 3
   },
   "file_extension": ".py",
   "mimetype": "text/x-python",
   "name": "python",
   "nbconvert_exporter": "python",
   "pygments_lexer": "ipython3",
   "version": "3.6.5"
  }
 },
 "nbformat": 4,
 "nbformat_minor": 2
}
